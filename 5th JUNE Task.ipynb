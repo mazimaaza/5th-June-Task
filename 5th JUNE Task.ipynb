{
 "cells": [
  {
   "cell_type": "markdown",
   "id": "7f9b38f8",
   "metadata": {},
   "source": [
    "1. Try to print a prime number in between 1 to 100"
   ]
  },
  {
   "cell_type": "code",
   "execution_count": 3,
   "id": "be6184e0",
   "metadata": {},
   "outputs": [
    {
     "name": "stdout",
     "output_type": "stream",
     "text": [
      "2 3 5 7 11 13 17 19 23 29 31 37 41 43 47 53 59 61 67 71 73 79 83 89 97 "
     ]
    }
   ],
   "source": [
    "for num in range(1,101):\n",
    "    if(num>1):\n",
    "        for i in range(2,num):\n",
    "            if(num%i) == 0:\n",
    "                break\n",
    "        else:\n",
    "            print(num, end = \" \")"
   ]
  },
  {
   "cell_type": "markdown",
   "id": "33888bd8",
   "metadata": {},
   "source": [
    "2. Try to write a function which is equivalent to print function in pyhton"
   ]
  },
  {
   "cell_type": "code",
   "execution_count": 6,
   "id": "50e7ea9b",
   "metadata": {},
   "outputs": [],
   "source": [
    "def test(a,b):\n",
    "    print(a+b)"
   ]
  },
  {
   "cell_type": "code",
   "execution_count": 7,
   "id": "4137bc02",
   "metadata": {},
   "outputs": [
    {
     "name": "stdout",
     "output_type": "stream",
     "text": [
      "5\n"
     ]
    }
   ],
   "source": [
    "test(2,3)"
   ]
  },
  {
   "cell_type": "code",
   "execution_count": 8,
   "id": "612f6479",
   "metadata": {},
   "outputs": [],
   "source": [
    "def test(a,b)\n",
    "    return a+b"
   ]
  },
  {
   "cell_type": "code",
   "execution_count": 9,
   "id": "8f225faa",
   "metadata": {},
   "outputs": [
    {
     "data": {
      "text/plain": [
       "5"
      ]
     },
     "execution_count": 9,
     "metadata": {},
     "output_type": "execute_result"
    }
   ],
   "source": [
    "test(2,3)"
   ]
  },
  {
   "cell_type": "markdown",
   "id": "ea483dca",
   "metadata": {},
   "source": [
    "3. Try to write a function which is a replica of list append, extend and pop function."
   ]
  },
  {
   "cell_type": "markdown",
   "id": "06bc0979",
   "metadata": {},
   "source": [
    "4. Try to write a lambda function which can return a concatenation of all the string that we will pass."
   ]
  },
  {
   "cell_type": "code",
   "execution_count": 32,
   "id": "f5e36bb1",
   "metadata": {},
   "outputs": [],
   "source": [
    "n = \"this is a lambda function\""
   ]
  },
  {
   "cell_type": "code",
   "execution_count": 33,
   "id": "0d582eec",
   "metadata": {},
   "outputs": [],
   "source": [
    "b = lambda a :[i for i in n]"
   ]
  },
  {
   "cell_type": "code",
   "execution_count": 34,
   "id": "1101727c",
   "metadata": {},
   "outputs": [
    {
     "data": {
      "text/plain": [
       "<function __main__.<lambda>(a)>"
      ]
     },
     "execution_count": 34,
     "metadata": {},
     "output_type": "execute_result"
    }
   ],
   "source": [
    "b"
   ]
  },
  {
   "cell_type": "code",
   "execution_count": 36,
   "id": "ee9bd687",
   "metadata": {},
   "outputs": [
    {
     "data": {
      "text/plain": [
       "['t',\n",
       " 'h',\n",
       " 'i',\n",
       " 's',\n",
       " ' ',\n",
       " 'i',\n",
       " 's',\n",
       " ' ',\n",
       " 'a',\n",
       " ' ',\n",
       " 'l',\n",
       " 'a',\n",
       " 'm',\n",
       " 'b',\n",
       " 'd',\n",
       " 'a',\n",
       " ' ',\n",
       " 'f',\n",
       " 'u',\n",
       " 'n',\n",
       " 'c',\n",
       " 't',\n",
       " 'i',\n",
       " 'o',\n",
       " 'n']"
      ]
     },
     "execution_count": 36,
     "metadata": {},
     "output_type": "execute_result"
    }
   ],
   "source": [
    "b(n)"
   ]
  },
  {
   "cell_type": "markdown",
   "id": "cbc34fe5",
   "metadata": {},
   "source": [
    "5. Try to write a lambda function which can return list of square of all the data between 1 - 100."
   ]
  },
  {
   "cell_type": "code",
   "execution_count": 39,
   "id": "5312ee85",
   "metadata": {},
   "outputs": [
    {
     "data": {
      "text/plain": [
       "[1,\n",
       " 4,\n",
       " 9,\n",
       " 16,\n",
       " 25,\n",
       " 36,\n",
       " 49,\n",
       " 64,\n",
       " 81,\n",
       " 100,\n",
       " 121,\n",
       " 144,\n",
       " 169,\n",
       " 196,\n",
       " 225,\n",
       " 256,\n",
       " 289,\n",
       " 324,\n",
       " 361,\n",
       " 400,\n",
       " 441,\n",
       " 484,\n",
       " 529,\n",
       " 576,\n",
       " 625,\n",
       " 676,\n",
       " 729,\n",
       " 784,\n",
       " 841,\n",
       " 900,\n",
       " 961,\n",
       " 1024,\n",
       " 1089,\n",
       " 1156,\n",
       " 1225,\n",
       " 1296,\n",
       " 1369,\n",
       " 1444,\n",
       " 1521,\n",
       " 1600,\n",
       " 1681,\n",
       " 1764,\n",
       " 1849,\n",
       " 1936,\n",
       " 2025,\n",
       " 2116,\n",
       " 2209,\n",
       " 2304,\n",
       " 2401,\n",
       " 2500,\n",
       " 2601,\n",
       " 2704,\n",
       " 2809,\n",
       " 2916,\n",
       " 3025,\n",
       " 3136,\n",
       " 3249,\n",
       " 3364,\n",
       " 3481,\n",
       " 3600,\n",
       " 3721,\n",
       " 3844,\n",
       " 3969,\n",
       " 4096,\n",
       " 4225,\n",
       " 4356,\n",
       " 4489,\n",
       " 4624,\n",
       " 4761,\n",
       " 4900,\n",
       " 5041,\n",
       " 5184,\n",
       " 5329,\n",
       " 5476,\n",
       " 5625,\n",
       " 5776,\n",
       " 5929,\n",
       " 6084,\n",
       " 6241,\n",
       " 6400,\n",
       " 6561,\n",
       " 6724,\n",
       " 6889,\n",
       " 7056,\n",
       " 7225,\n",
       " 7396,\n",
       " 7569,\n",
       " 7744,\n",
       " 7921,\n",
       " 8100,\n",
       " 8281,\n",
       " 8464,\n",
       " 8649,\n",
       " 8836,\n",
       " 9025,\n",
       " 9216,\n",
       " 9409,\n",
       " 9604,\n",
       " 9801]"
      ]
     },
     "execution_count": 39,
     "metadata": {},
     "output_type": "execute_result"
    }
   ],
   "source": [
    " [i*i for i in range(1,100)]"
   ]
  },
  {
   "cell_type": "markdown",
   "id": "0a167d42",
   "metadata": {},
   "source": [
    "6. Try to write 10 different examples of lambda function with a choice of your task."
   ]
  },
  {
   "cell_type": "code",
   "execution_count": 41,
   "id": "d8d78419",
   "metadata": {},
   "outputs": [],
   "source": [
    "n = lambda p,q : p+q"
   ]
  },
  {
   "cell_type": "code",
   "execution_count": 42,
   "id": "39b4f036",
   "metadata": {},
   "outputs": [
    {
     "data": {
      "text/plain": [
       "8"
      ]
     },
     "execution_count": 42,
     "metadata": {},
     "output_type": "execute_result"
    }
   ],
   "source": [
    "n(6,2)"
   ]
  },
  {
   "cell_type": "code",
   "execution_count": 43,
   "id": "c207a9f6",
   "metadata": {},
   "outputs": [],
   "source": [
    "a = lambda *args : args"
   ]
  },
  {
   "cell_type": "code",
   "execution_count": 44,
   "id": "9c86340f",
   "metadata": {},
   "outputs": [
    {
     "data": {
      "text/plain": [
       "(4, 5, 6, 7, 8, 9, 0)"
      ]
     },
     "execution_count": 44,
     "metadata": {},
     "output_type": "execute_result"
    }
   ],
   "source": [
    "a(4,5,6,7,8,9,0)"
   ]
  },
  {
   "cell_type": "code",
   "execution_count": 45,
   "id": "16806938",
   "metadata": {},
   "outputs": [],
   "source": [
    "b =   lambda **kwargs : kwargs"
   ]
  },
  {
   "cell_type": "code",
   "execution_count": 46,
   "id": "b6997ec3",
   "metadata": {},
   "outputs": [
    {
     "data": {
      "text/plain": [
       "{'a': 9, 'b': 8, 'c': 6, 'd': 1, 'e': 10}"
      ]
     },
     "execution_count": 46,
     "metadata": {},
     "output_type": "execute_result"
    }
   ],
   "source": [
    "b(a=9,b=8,c=6,d=1,e=10)"
   ]
  },
  {
   "cell_type": "code",
   "execution_count": 53,
   "id": "6489904e",
   "metadata": {},
   "outputs": [],
   "source": [
    "c = lambda *a , **b : a,b"
   ]
  },
  {
   "cell_type": "code",
   "execution_count": 56,
   "id": "5fd37cf1",
   "metadata": {},
   "outputs": [
    {
     "ename": "SyntaxError",
     "evalue": "invalid syntax (Temp/ipykernel_1916/4239186819.py, line 1)",
     "output_type": "error",
     "traceback": [
      "\u001b[1;36m  File \u001b[1;32m\"C:\\Users\\LENOVO\\AppData\\Local\\Temp/ipykernel_1916/4239186819.py\"\u001b[1;36m, line \u001b[1;32m1\u001b[0m\n\u001b[1;33m    c(1,2,3,4,,56,6,a=1,b=2,c=5,d=7,e=9)\u001b[0m\n\u001b[1;37m              ^\u001b[0m\n\u001b[1;31mSyntaxError\u001b[0m\u001b[1;31m:\u001b[0m invalid syntax\n"
     ]
    }
   ],
   "source": [
    "c(1,2,3,4,,56,6,a=1,b=2,c=5,d=7,e=9)"
   ]
  },
  {
   "cell_type": "code",
   "execution_count": 57,
   "id": "d65010dc",
   "metadata": {},
   "outputs": [],
   "source": [
    "t = (1,2,3,4,5,6,7,8)"
   ]
  },
  {
   "cell_type": "code",
   "execution_count": 58,
   "id": "89ebd09b",
   "metadata": {},
   "outputs": [
    {
     "data": {
      "text/plain": [
       "[1, 2, 3, 4, 5, 6, 7, 8]"
      ]
     },
     "execution_count": 58,
     "metadata": {},
     "output_type": "execute_result"
    }
   ],
   "source": [
    "[i for i in t]"
   ]
  },
  {
   "cell_type": "code",
   "execution_count": 63,
   "id": "695bb46b",
   "metadata": {},
   "outputs": [
    {
     "data": {
      "text/plain": [
       "[1, 4, 9, 16, 25, 36, 49, 64]"
      ]
     },
     "execution_count": 63,
     "metadata": {},
     "output_type": "execute_result"
    }
   ],
   "source": [
    "[i*i  for i in t]"
   ]
  },
  {
   "cell_type": "code",
   "execution_count": 64,
   "id": "44a07712",
   "metadata": {},
   "outputs": [
    {
     "data": {
      "text/plain": [
       "[1, 4, 9, 16, 25, 36, 49, 64]"
      ]
     },
     "execution_count": 64,
     "metadata": {},
     "output_type": "execute_result"
    }
   ],
   "source": [
    "[i**2 for i in t]"
   ]
  },
  {
   "cell_type": "code",
   "execution_count": 65,
   "id": "49002ad3",
   "metadata": {},
   "outputs": [
    {
     "data": {
      "text/plain": [
       "[1, 8, 27, 64, 125, 216, 343, 512]"
      ]
     },
     "execution_count": 65,
     "metadata": {},
     "output_type": "execute_result"
    }
   ],
   "source": [
    "[i**3 for i in t]"
   ]
  },
  {
   "cell_type": "code",
   "execution_count": 66,
   "id": "a6ed5d04",
   "metadata": {},
   "outputs": [
    {
     "data": {
      "text/plain": [
       "[0, 1, 2, 3, 4, 5, 6, 7, 8, 9]"
      ]
     },
     "execution_count": 66,
     "metadata": {},
     "output_type": "execute_result"
    }
   ],
   "source": [
    "[i for i in range(10)]"
   ]
  },
  {
   "cell_type": "code",
   "execution_count": 67,
   "id": "cdce1829",
   "metadata": {},
   "outputs": [
    {
     "data": {
      "text/plain": [
       "[0, 1, 4, 9, 16, 25, 36, 49, 64, 81]"
      ]
     },
     "execution_count": 67,
     "metadata": {},
     "output_type": "execute_result"
    }
   ],
   "source": [
    "[i*i for i in range(0,10)]"
   ]
  },
  {
   "cell_type": "code",
   "execution_count": 68,
   "id": "ab2e7618",
   "metadata": {},
   "outputs": [],
   "source": [
    "y = lambda *a , **b : a ,b"
   ]
  },
  {
   "cell_type": "code",
   "execution_count": 70,
   "id": "1765aab0",
   "metadata": {},
   "outputs": [
    {
     "ename": "SyntaxError",
     "evalue": "invalid syntax (Temp/ipykernel_1916/3405100092.py, line 1)",
     "output_type": "error",
     "traceback": [
      "\u001b[1;36m  File \u001b[1;32m\"C:\\Users\\LENOVO\\AppData\\Local\\Temp/ipykernel_1916/3405100092.py\"\u001b[1;36m, line \u001b[1;32m1\u001b[0m\n\u001b[1;33m    y(1,2,3,4,2,3,6,7,8,a=5,b=9,c=9,d=3)|\u001b[0m\n\u001b[1;37m                                         ^\u001b[0m\n\u001b[1;31mSyntaxError\u001b[0m\u001b[1;31m:\u001b[0m invalid syntax\n"
     ]
    }
   ],
   "source": [
    "y(1,2,3,4,2,3,6,7,8,a=5,b=9,c=9,d=3)|"
   ]
  },
  {
   "cell_type": "markdown",
   "id": "62b3f4ed",
   "metadata": {},
   "source": [
    "6. Try to write a function which can perform a read operation from .textfile"
   ]
  },
  {
   "cell_type": "code",
   "execution_count": null,
   "id": "1a90f7c6",
   "metadata": {},
   "outputs": [],
   "source": []
  }
 ],
 "metadata": {
  "kernelspec": {
   "display_name": "Python 3 (ipykernel)",
   "language": "python",
   "name": "python3"
  },
  "language_info": {
   "codemirror_mode": {
    "name": "ipython",
    "version": 3
   },
   "file_extension": ".py",
   "mimetype": "text/x-python",
   "name": "python",
   "nbconvert_exporter": "python",
   "pygments_lexer": "ipython3",
   "version": "3.9.7"
  }
 },
 "nbformat": 4,
 "nbformat_minor": 5
}
